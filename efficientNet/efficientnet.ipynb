{
 "cells": [
  {
   "cell_type": "markdown",
   "id": "9443cd3f",
   "metadata": {},
   "source": [
    "# EfficientNet"
   ]
  },
  {
   "cell_type": "markdown",
   "id": "bdfdb0d1",
   "metadata": {},
   "source": [
    "# Build the EfficientNet\n",
    "\n",
    "Let's start to build the model!\n",
    "\n",
    "We first need to build the `EfficientNetB0` baseline model, which is shown in *Table 1* of efficientnet paper.\n",
    "\n",
    "Also, we setup the hyperparameter using for `B0` to `B7`.\n",
    "\n",
    "It systematically scales up the power of the model."
   ]
  },
  {
   "cell_type": "code",
   "execution_count": 38,
   "id": "37fd4ad6",
   "metadata": {},
   "outputs": [],
   "source": [
    "baseline_model = [\n",
    "    # expand_ratio, channels, repeats (layers), stride, kernel_size\n",
    "    [1, 16, 1, 1, 3],\n",
    "    [6, 24, 2, 2, 3],\n",
    "    [6, 40, 2, 2, 5],\n",
    "    [6, 80, 3, 2, 3],\n",
    "    [6, 112, 3, 1, 5],\n",
    "    [6, 192, 4, 2, 5],\n",
    "    [6, 320, 1, 1, 3],\n",
    "]\n",
    "# stride: if the resolution of next layer is 1/2 it means the image is scaled, so stride = 2\n",
    "\n",
    "phi_values = {\n",
    "    # (phi_value, resolution, drop_rate), phi_value for alpha, beta, and gamma\n",
    "    \"b0\": (0, 224, 0.2),\n",
    "    \"b1\": (0.5, 240, 0.2),\n",
    "    \"b2\": (1, 280, 0.3),\n",
    "    \"b3\": (2, 300, 0.3),\n",
    "    \"b4\": (3, 380, 0.4),\n",
    "    \"b5\": (4, 456, 0.4),\n",
    "    \"b6\": (5, 528, 0.5),\n",
    "    \"b7\": (6, 600, 0.5),\n",
    "}"
   ]
  },
  {
   "cell_type": "markdown",
   "id": "0ad0caa0",
   "metadata": {},
   "source": [
    "Next, we build a special `CNNBlock` with `groups = groups` for implementing **depth-wise convolution**.\n",
    "\n",
    "> *Note:* If we don't specify `groups` parameter, default = 1 means normal convolution layer, meaning using all channels to calculate every output channels; If `groups = in_channels = out_channels`, it is doing **depth-wise convolution**.\n",
    "\n",
    "> *Note 2:* We often set `bias = False` if we do **batch normalisation**, since bn already exists `scale` and `shift` for bias term."
   ]
  },
  {
   "cell_type": "code",
   "execution_count": 39,
   "id": "d64bc684",
   "metadata": {},
   "outputs": [],
   "source": [
    "class CNNBlock(nn.Module):\n",
    "    def __init__(self, in_channels, out_channels, kernel_size, stride, padding, groups = 1):\n",
    "        \"\"\"\n",
    "        General Convolutional layer\n",
    "        groups: if we set groups = 1, this is a normal conv,\n",
    "                if we set it to groups = in_channels, then it is a Depthwise conv\n",
    "        \"\"\"\n",
    "        super(CNNBlock, self).__init__()\n",
    "        self.cnn = nn.Conv2d(in_channels,\n",
    "                             out_channels,\n",
    "                             kernel_size,\n",
    "                             stride, \n",
    "                             padding,\n",
    "                             groups = groups,\n",
    "                             bias = False)\n",
    "        self.bn = nn.BatchNorm2d(out_channels)\n",
    "        self.silu = nn.SiLU()\n",
    "\n",
    "    def forward(self, x):\n",
    "        return self.silu(self.bn(self.cnn(x)))\n"
   ]
  },
  {
   "cell_type": "markdown",
   "id": "5a73c416",
   "metadata": {},
   "source": [
    "The other special method is `Squeeze-and-Excitation` . Here we are going to build the layer. (More details about Squeeze-and-Excitation going to notebook)"
   ]
  },
  {
   "cell_type": "code",
   "execution_count": 40,
   "id": "c0e4c067",
   "metadata": {},
   "outputs": [],
   "source": [
    "class SqueezeExcitation(nn.Module):\n",
    "    def __init__(self, in_channels, reduced_dim):\n",
    "        \"\"\"\n",
    "        Squeeze-and-excitation layer. We also add an additional nonliearity\n",
    "        \"\"\"\n",
    "        super(SqueezeExcitation, self).__init__()\n",
    "        self.se = nn.Sequential(\n",
    "            nn.AdaptiveAvgPool2d(1),\n",
    "            nn.Conv2d(in_channels, reduced_dim, 1),\n",
    "            nn.SiLU(),\n",
    "            nn.Conv2d(reduced_dim, in_channels, 1),\n",
    "            nn.Sigmoid()\n",
    "        )\n",
    "\n",
    "    def forward(self, x):\n",
    "        return x * self.se(x)\n"
   ]
  },
  {
   "cell_type": "markdown",
   "id": "46fe73cd",
   "metadata": {},
   "source": [
    "Finally, we can integrate CNNBlock and SqueezeExcitation to build `InvertedResidualBlock`.\n",
    "\n",
    "Several things to be aware:\n",
    "1. `use_residual`: Remember when to use residual connection\n",
    "2. `stochastic_depth`: Only when using residual connection will apply stochastic dropout"
   ]
  },
  {
   "cell_type": "code",
   "execution_count": 41,
   "id": "ab69c152",
   "metadata": {},
   "outputs": [],
   "source": [
    "from math import ceil\n",
    "\n",
    "class InvertedResidualBlock(nn.Module):\n",
    "    def __init__(self, in_channels, out_channels, kernel_size, stride, padding, expand_ratio, reduction = 4, survival_prob = 0.8):\n",
    "        \"\"\"\n",
    "        expand_ratio: scale up in MBConv\n",
    "        reduction: reduced_dim for Squeeze-and-Excitation optimisation, for attention score between each channel\n",
    "        survival_prob: for stochastic depth-wise ratio\n",
    "        \"\"\"\n",
    "        super(InvertedResidualBlock, self).__init__()\n",
    "        self.survival_prob = survival_prob\n",
    "        self.use_residual = (in_channels == out_channels) and (stride == 1)\n",
    "        hidden_dim = in_channels * expand_ratio\n",
    "        self.expand = in_channels != hidden_dim\n",
    "        reduced_dim = int(in_channels / reduction)\n",
    "\n",
    "        if self.expand:\n",
    "            # expand the channel\n",
    "            self.expand_conv = CNNBlock(in_channels, hidden_dim, kernel_size = 1, stride = 1, padding = 0)\n",
    "\n",
    "        self.conv = nn.Sequential(\n",
    "            CNNBlock(hidden_dim, hidden_dim, kernel_size, stride, padding, groups = hidden_dim),\n",
    "            SqueezeExcitation(hidden_dim, reduced_dim),\n",
    "            nn.Conv2d(hidden_dim, out_channels, 1),\n",
    "            nn.BatchNorm2d(out_channels)\n",
    "        )\n",
    "\n",
    "    def stochastic_depth(self, x):\n",
    "        \"\"\"\n",
    "        Different \"data point\" will randomly skip this layer.\n",
    "        ***Not batch-wise***\n",
    "        \"\"\"\n",
    "        if not self.training:\n",
    "            return x\n",
    "        \n",
    "        binary_tensor = torch.rand(x.shape[0], 1, 1, 1, device = x.device) < self.survival_prob\n",
    "        return torch.div(x, self.survival_prob) * binary_tensor\n",
    "\n",
    "    def forward(self, inputs):\n",
    "        \"\"\"\n",
    "        Only when using residual connection will add stochastic depth\n",
    "        \"\"\"\n",
    "        x = self.expand_conv(inputs) if self.expand else inputs\n",
    "\n",
    "        if self.use_residual:\n",
    "            return self.stochastic_depth(self.conv(x)) + inputs\n",
    "        else:\n",
    "            return self.conv(x)\n",
    "        \n"
   ]
  },
  {
   "cell_type": "markdown",
   "id": "b67b6e5c",
   "metadata": {},
   "source": [
    "## Build `EfficientNet`\n",
    "\n",
    "Building the net is not very hard, make sure the input and output channels!\n",
    "\n",
    "Based on the version of `EfficientNet` build the net with corresponding scale."
   ]
  },
  {
   "cell_type": "code",
   "execution_count": 42,
   "id": "56a55984",
   "metadata": {},
   "outputs": [],
   "source": [
    "class EfficientNet(nn.Module):\n",
    "    def __init__(self, version, num_classes):\n",
    "        \n",
    "        super(EfficientNet, self).__init__()\n",
    "        width_factor, depth_factor, dropout_rate = self.calculate_factors(version)\n",
    "        self.pool = nn.AdaptiveAvgPool2d(1)\n",
    "        last_channels = ceil(1280 * width_factor)\n",
    "        self.features = self.create_features(width_factor, depth_factor, last_channels)\n",
    "        self.classifier = nn.Sequential(\n",
    "            nn.Dropout(dropout_rate),\n",
    "            nn.Linear(last_channels, num_classes)\n",
    "        )\n",
    "\n",
    "    def calculate_factors(self, version, alpha = 1.2, beta = 1.1):\n",
    "        phi, resolution, drop_rate = phi_values[version]\n",
    "        depth_factor = alpha ** phi\n",
    "        width_factor = beta ** phi\n",
    "        return depth_factor, width_factor, drop_rate\n",
    "    \n",
    "    def create_features(self, width_factor, depth_factor, last_channels):\n",
    "        channels = int(32 * width_factor) # Channel size of first layer is 32 in paper, which we do not include in baseline_model list \n",
    "        features = [CNNBlock(3, channels, kernel_size = 3, stride = 2, padding = 1)]\n",
    "        in_channels = channels\n",
    "        \n",
    "        for expand_ratio, channels, repeats, stride, kernel_size in baseline_model:\n",
    "            out_channels = 4 * ceil(int(channels * width_factor) / 4) # just want to make sure the channels is Multiples of 4\n",
    "            layers_repeats = ceil(repeats * depth_factor)\n",
    "\n",
    "            for layer in range(layers_repeats):\n",
    "                features.append(\n",
    "                    InvertedResidualBlock(in_channels, out_channels, expand_ratio = expand_ratio,\n",
    "                                          stride = stride if layer == 0 else 1,\n",
    "                                          kernel_size = kernel_size,\n",
    "                                          padding = kernel_size // 2) # if k = 1: pad = 0, if k = 3: pad = 1, if k = 5, pad = 3\n",
    "                )\n",
    "\n",
    "                in_channels = out_channels\n",
    "        features.append(\n",
    "            CNNBlock(in_channels, last_channels, kernel_size = 1, stride = 1, padding = 0)\n",
    "\n",
    "        )\n",
    "        return nn.Sequential(*features)\n",
    "    \n",
    "    def forward(self, x):\n",
    "        x = self.pool(self.features(x))\n",
    "        return self.classifier(x.view(x.shape[0], -1))"
   ]
  },
  {
   "cell_type": "markdown",
   "id": "b66ae71d",
   "metadata": {},
   "source": [
    "Finally write a test function.\n"
   ]
  },
  {
   "cell_type": "code",
   "execution_count": 43,
   "id": "10420825",
   "metadata": {},
   "outputs": [],
   "source": [
    "def test():\n",
    "    device = \"cuda\" if torch.cuda.is_available() else \"cpu\"\n",
    "    version = \"b0\"\n",
    "    phi, res, drop_rate = phi_values[version]\n",
    "    num_examples, num_classes = 4, 10\n",
    "    x = torch.randn((num_examples, 3, res, res)).to(device)\n",
    "    model = EfficientNet(\n",
    "        version=version,\n",
    "        num_classes=num_classes,\n",
    "    ).to(device)\n",
    "\n",
    "    print(model(x).shape)  # (num_examples, num_classes)"
   ]
  },
  {
   "cell_type": "code",
   "execution_count": 44,
   "id": "fc3ca445",
   "metadata": {},
   "outputs": [
    {
     "name": "stdout",
     "output_type": "stream",
     "text": [
      "torch.Size([4, 10])\n"
     ]
    }
   ],
   "source": [
    "test()"
   ]
  },
  {
   "cell_type": "markdown",
   "id": "9a3c5792",
   "metadata": {},
   "source": [
    "### SURPRISING! We finish building Efficient Net!"
   ]
  },
  {
   "cell_type": "markdown",
   "id": "254034e6",
   "metadata": {},
   "source": []
  }
 ],
 "metadata": {
  "kernelspec": {
   "display_name": "torch",
   "language": "python",
   "name": "python3"
  },
  "language_info": {
   "codemirror_mode": {
    "name": "ipython",
    "version": 3
   },
   "file_extension": ".py",
   "mimetype": "text/x-python",
   "name": "python",
   "nbconvert_exporter": "python",
   "pygments_lexer": "ipython3",
   "version": "3.11.11"
  }
 },
 "nbformat": 4,
 "nbformat_minor": 5
}
